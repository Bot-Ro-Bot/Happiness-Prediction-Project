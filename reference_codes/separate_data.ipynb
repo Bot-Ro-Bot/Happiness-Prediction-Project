{
 "cells": [
  {
   "cell_type": "code",
   "execution_count": 7,
   "metadata": {},
   "outputs": [],
   "source": [
    "import numpy as np \n",
    "import pandas as pd\n",
    "import os"
   ]
  },
  {
   "cell_type": "code",
   "execution_count": 8,
   "metadata": {},
   "outputs": [
    {
     "name": "stdout",
     "output_type": "stream",
     "text": [
      "Collecting xlrd\n",
      "  Downloading xlrd-2.0.1-py2.py3-none-any.whl (96 kB)\n",
      "\u001b[2K     \u001b[90m━━━━━━━━━━━━━━━━━━━━━━━━━━━━━━━━━━━━━━━━\u001b[0m \u001b[32m96.5/96.5 kB\u001b[0m \u001b[31m2.0 MB/s\u001b[0m eta \u001b[36m0:00:00\u001b[0ma \u001b[36m0:00:01\u001b[0m\n",
      "\u001b[?25hInstalling collected packages: xlrd\n",
      "Successfully installed xlrd-2.0.1\n"
     ]
    }
   ],
   "source": [
    "!pip3 install xlrd"
   ]
  },
  {
   "cell_type": "code",
   "execution_count": 9,
   "metadata": {},
   "outputs": [],
   "source": [
    "data = pd.read_excel(\"/Users/rabinnepal/gitHub/Happiness-Prediction-Project/backup dataset/World Happiness Report (2005-2023).xls\")"
   ]
  },
  {
   "cell_type": "code",
   "execution_count": 10,
   "metadata": {},
   "outputs": [
    {
     "data": {
      "text/html": [
       "<div>\n",
       "<style scoped>\n",
       "    .dataframe tbody tr th:only-of-type {\n",
       "        vertical-align: middle;\n",
       "    }\n",
       "\n",
       "    .dataframe tbody tr th {\n",
       "        vertical-align: top;\n",
       "    }\n",
       "\n",
       "    .dataframe thead th {\n",
       "        text-align: right;\n",
       "    }\n",
       "</style>\n",
       "<table border=\"1\" class=\"dataframe\">\n",
       "  <thead>\n",
       "    <tr style=\"text-align: right;\">\n",
       "      <th></th>\n",
       "      <th>Country</th>\n",
       "      <th>Year</th>\n",
       "      <th>Happiness Score</th>\n",
       "      <th>GDP per Capita</th>\n",
       "      <th>Social Support</th>\n",
       "      <th>Life Expectancy</th>\n",
       "      <th>Freedom</th>\n",
       "      <th>Generosity</th>\n",
       "      <th>Corruption</th>\n",
       "    </tr>\n",
       "  </thead>\n",
       "  <tbody>\n",
       "    <tr>\n",
       "      <th>0</th>\n",
       "      <td>Afghanistan</td>\n",
       "      <td>2008</td>\n",
       "      <td>3.723590</td>\n",
       "      <td>7.350416</td>\n",
       "      <td>0.450662</td>\n",
       "      <td>50.500000</td>\n",
       "      <td>0.718114</td>\n",
       "      <td>0.167652</td>\n",
       "      <td>0.881686</td>\n",
       "    </tr>\n",
       "    <tr>\n",
       "      <th>1</th>\n",
       "      <td>Afghanistan</td>\n",
       "      <td>2009</td>\n",
       "      <td>4.401778</td>\n",
       "      <td>7.508646</td>\n",
       "      <td>0.552308</td>\n",
       "      <td>50.799999</td>\n",
       "      <td>0.678896</td>\n",
       "      <td>0.190809</td>\n",
       "      <td>0.850035</td>\n",
       "    </tr>\n",
       "    <tr>\n",
       "      <th>2</th>\n",
       "      <td>Afghanistan</td>\n",
       "      <td>2010</td>\n",
       "      <td>4.758381</td>\n",
       "      <td>7.613900</td>\n",
       "      <td>0.539075</td>\n",
       "      <td>51.099998</td>\n",
       "      <td>0.600127</td>\n",
       "      <td>0.121316</td>\n",
       "      <td>0.706766</td>\n",
       "    </tr>\n",
       "    <tr>\n",
       "      <th>3</th>\n",
       "      <td>Afghanistan</td>\n",
       "      <td>2011</td>\n",
       "      <td>3.831719</td>\n",
       "      <td>7.581259</td>\n",
       "      <td>0.521104</td>\n",
       "      <td>51.400002</td>\n",
       "      <td>0.495901</td>\n",
       "      <td>0.163571</td>\n",
       "      <td>0.731109</td>\n",
       "    </tr>\n",
       "    <tr>\n",
       "      <th>4</th>\n",
       "      <td>Afghanistan</td>\n",
       "      <td>2012</td>\n",
       "      <td>3.782938</td>\n",
       "      <td>7.660506</td>\n",
       "      <td>0.520637</td>\n",
       "      <td>51.700001</td>\n",
       "      <td>0.530935</td>\n",
       "      <td>0.237588</td>\n",
       "      <td>0.775620</td>\n",
       "    </tr>\n",
       "  </tbody>\n",
       "</table>\n",
       "</div>"
      ],
      "text/plain": [
       "       Country  Year  Happiness Score  GDP per Capita  Social Support  \\\n",
       "0  Afghanistan  2008         3.723590        7.350416        0.450662   \n",
       "1  Afghanistan  2009         4.401778        7.508646        0.552308   \n",
       "2  Afghanistan  2010         4.758381        7.613900        0.539075   \n",
       "3  Afghanistan  2011         3.831719        7.581259        0.521104   \n",
       "4  Afghanistan  2012         3.782938        7.660506        0.520637   \n",
       "\n",
       "   Life Expectancy   Freedom  Generosity  Corruption  \n",
       "0        50.500000  0.718114    0.167652    0.881686  \n",
       "1        50.799999  0.678896    0.190809    0.850035  \n",
       "2        51.099998  0.600127    0.121316    0.706766  \n",
       "3        51.400002  0.495901    0.163571    0.731109  \n",
       "4        51.700001  0.530935    0.237588    0.775620  "
      ]
     },
     "execution_count": 10,
     "metadata": {},
     "output_type": "execute_result"
    }
   ],
   "source": [
    "data.head()"
   ]
  },
  {
   "cell_type": "code",
   "execution_count": 11,
   "metadata": {},
   "outputs": [],
   "source": [
    "sorted_dataset = data.sort_values(by=\"Year\")"
   ]
  },
  {
   "cell_type": "code",
   "execution_count": 12,
   "metadata": {},
   "outputs": [
    {
     "data": {
      "text/html": [
       "<div>\n",
       "<style scoped>\n",
       "    .dataframe tbody tr th:only-of-type {\n",
       "        vertical-align: middle;\n",
       "    }\n",
       "\n",
       "    .dataframe tbody tr th {\n",
       "        vertical-align: top;\n",
       "    }\n",
       "\n",
       "    .dataframe thead th {\n",
       "        text-align: right;\n",
       "    }\n",
       "</style>\n",
       "<table border=\"1\" class=\"dataframe\">\n",
       "  <thead>\n",
       "    <tr style=\"text-align: right;\">\n",
       "      <th></th>\n",
       "      <th>Country</th>\n",
       "      <th>Year</th>\n",
       "      <th>Happiness Score</th>\n",
       "      <th>GDP per Capita</th>\n",
       "      <th>Social Support</th>\n",
       "      <th>Life Expectancy</th>\n",
       "      <th>Freedom</th>\n",
       "      <th>Generosity</th>\n",
       "      <th>Corruption</th>\n",
       "    </tr>\n",
       "  </thead>\n",
       "  <tbody>\n",
       "    <tr>\n",
       "      <th>984</th>\n",
       "      <td>Italy</td>\n",
       "      <td>2005</td>\n",
       "      <td>6.853784</td>\n",
       "      <td>10.697855</td>\n",
       "      <td>0.928001</td>\n",
       "      <td>70.599998</td>\n",
       "      <td>0.802195</td>\n",
       "      <td>NaN</td>\n",
       "      <td>0.943912</td>\n",
       "    </tr>\n",
       "    <tr>\n",
       "      <th>731</th>\n",
       "      <td>Germany</td>\n",
       "      <td>2005</td>\n",
       "      <td>6.619550</td>\n",
       "      <td>10.690792</td>\n",
       "      <td>0.963490</td>\n",
       "      <td>69.900002</td>\n",
       "      <td>0.846624</td>\n",
       "      <td>NaN</td>\n",
       "      <td>0.781007</td>\n",
       "    </tr>\n",
       "    <tr>\n",
       "      <th>1170</th>\n",
       "      <td>Lebanon</td>\n",
       "      <td>2005</td>\n",
       "      <td>5.491245</td>\n",
       "      <td>9.572591</td>\n",
       "      <td>0.796278</td>\n",
       "      <td>65.099998</td>\n",
       "      <td>0.703206</td>\n",
       "      <td>NaN</td>\n",
       "      <td>0.945177</td>\n",
       "    </tr>\n",
       "    <tr>\n",
       "      <th>677</th>\n",
       "      <td>France</td>\n",
       "      <td>2005</td>\n",
       "      <td>7.093393</td>\n",
       "      <td>10.636769</td>\n",
       "      <td>0.940338</td>\n",
       "      <td>70.699997</td>\n",
       "      <td>0.894819</td>\n",
       "      <td>NaN</td>\n",
       "      <td>0.687851</td>\n",
       "    </tr>\n",
       "    <tr>\n",
       "      <th>1753</th>\n",
       "      <td>Saudi Arabia</td>\n",
       "      <td>2005</td>\n",
       "      <td>7.079644</td>\n",
       "      <td>10.674833</td>\n",
       "      <td>0.867819</td>\n",
       "      <td>61.200001</td>\n",
       "      <td>NaN</td>\n",
       "      <td>NaN</td>\n",
       "      <td>0.505149</td>\n",
       "    </tr>\n",
       "  </tbody>\n",
       "</table>\n",
       "</div>"
      ],
      "text/plain": [
       "           Country  Year  Happiness Score  GDP per Capita  Social Support  \\\n",
       "984          Italy  2005         6.853784       10.697855        0.928001   \n",
       "731        Germany  2005         6.619550       10.690792        0.963490   \n",
       "1170       Lebanon  2005         5.491245        9.572591        0.796278   \n",
       "677         France  2005         7.093393       10.636769        0.940338   \n",
       "1753  Saudi Arabia  2005         7.079644       10.674833        0.867819   \n",
       "\n",
       "      Life Expectancy   Freedom  Generosity  Corruption  \n",
       "984         70.599998  0.802195         NaN    0.943912  \n",
       "731         69.900002  0.846624         NaN    0.781007  \n",
       "1170        65.099998  0.703206         NaN    0.945177  \n",
       "677         70.699997  0.894819         NaN    0.687851  \n",
       "1753        61.200001       NaN         NaN    0.505149  "
      ]
     },
     "execution_count": 12,
     "metadata": {},
     "output_type": "execute_result"
    }
   ],
   "source": [
    "sorted_dataset.head()"
   ]
  },
  {
   "cell_type": "code",
   "execution_count": 13,
   "metadata": {},
   "outputs": [
    {
     "data": {
      "text/plain": [
       "array([2005, 2006, 2007, 2008, 2009, 2010, 2011, 2012, 2013, 2014, 2015,\n",
       "       2016, 2017, 2018, 2019, 2020, 2021, 2022, 2023])"
      ]
     },
     "execution_count": 13,
     "metadata": {},
     "output_type": "execute_result"
    }
   ],
   "source": [
    "# Separate data into different dataframes for each year\n",
    "years = sorted_dataset['Year'].unique()  # Get unique years in the dataset\n",
    "\n",
    "years"
   ]
  },
  {
   "cell_type": "code",
   "execution_count": 14,
   "metadata": {},
   "outputs": [
    {
     "name": "stdout",
     "output_type": "stream",
     "text": [
      "(27, 9)\n",
      "(89, 9)\n",
      "(102, 9)\n",
      "(110, 9)\n",
      "(114, 9)\n",
      "(124, 9)\n",
      "(146, 9)\n",
      "(141, 9)\n",
      "(136, 9)\n",
      "(144, 9)\n",
      "(142, 9)\n",
      "(141, 9)\n",
      "(147, 9)\n",
      "(141, 9)\n",
      "(143, 9)\n",
      "(116, 9)\n",
      "(122, 9)\n",
      "(114, 9)\n",
      "(137, 9)\n",
      "             Country  Year  Happiness Score  GDP per Capita  Social Support  \\\n",
      "722          Georgia  2015         4.121941        9.441860        0.517372   \n",
      "1350          Mexico  2015         6.236287        9.880367        0.760614   \n",
      "355           Canada  2015         7.412773       10.768951        0.939067   \n",
      "2297           Yemen  2015         2.982674        7.772318        0.668683   \n",
      "2281         Vietnam  2015         5.076315        8.998519        0.848677   \n",
      "...              ...   ...              ...             ...             ...   \n",
      "1196         Liberia  2015         2.701591        7.365848        0.637666   \n",
      "653         Ethiopia  2015         4.573155        7.467755        0.625597   \n",
      "2192  United Kingdom  2015         6.515445       10.713269        0.935986   \n",
      "167          Belarus  2015         5.718908        9.818079        0.924073   \n",
      "1233      Luxembourg  2015         6.701571       11.636759        0.933605   \n",
      "\n",
      "      Life Expectancy   Freedom  Generosity  Corruption  \n",
      "722         64.199997  0.639945   -0.207957    0.502417  \n",
      "1350        65.800003  0.719466   -0.156223    0.707972  \n",
      "355         71.099998  0.931469    0.248908    0.427152  \n",
      "2297        58.400002  0.609981   -0.135052    0.829098  \n",
      "2281        64.900002       NaN    0.066410         NaN  \n",
      "...               ...       ...         ...         ...  \n",
      "1196        52.500000  0.671431   -0.062922    0.902673  \n",
      "653         58.299999  0.802643    0.112379    0.567027  \n",
      "2192        69.699997  0.832926    0.295811    0.456134  \n",
      "167         65.099998  0.622753   -0.095033    0.668678  \n",
      "1233        71.500000  0.932256    0.045661    0.375390  \n",
      "\n",
      "[142 rows x 9 columns]\n"
     ]
    }
   ],
   "source": [
    "\n",
    "yearly_dataframes = {}  # Dictionary to store dataframes for each year\n",
    "\n",
    "for year in years:\n",
    "    yearly_dataframes[year] = sorted_dataset[sorted_dataset['Year'] == year]\n",
    "    print(yearly_dataframes[year].shape)\n",
    "\n",
    "# Access each year's dataframe using the year as the key in 'yearly_dataframes'\n",
    "# For example:\n",
    "print(yearly_dataframes[2015]) "
   ]
  },
  {
   "cell_type": "code",
   "execution_count": 15,
   "metadata": {},
   "outputs": [
    {
     "data": {
      "text/plain": [
       "(122, 9)"
      ]
     },
     "execution_count": 15,
     "metadata": {},
     "output_type": "execute_result"
    }
   ],
   "source": [
    "yearly_dataframes[2021].shape"
   ]
  },
  {
   "cell_type": "code",
   "execution_count": null,
   "metadata": {},
   "outputs": [],
   "source": [
    "\n"
   ]
  },
  {
   "cell_type": "code",
   "execution_count": null,
   "metadata": {},
   "outputs": [],
   "source": [
    "for year in years:\n",
    "    yearly_dataframes[year] = sorted_dataset[sorted_dataset['Year'] == year]\n",
    "    # Save each year's dataframe to a CSV file\n",
    "    yearly_dataframes[year].to_csv(f'{year}.csv', index=False)"
   ]
  },
  {
   "cell_type": "code",
   "execution_count": null,
   "metadata": {},
   "outputs": [],
   "source": []
  }
 ],
 "metadata": {
  "kernelspec": {
   "display_name": "Python 3",
   "language": "python",
   "name": "python3"
  },
  "language_info": {
   "codemirror_mode": {
    "name": "ipython",
    "version": 3
   },
   "file_extension": ".py",
   "mimetype": "text/x-python",
   "name": "python",
   "nbconvert_exporter": "python",
   "pygments_lexer": "ipython3",
   "version": "3.11.6"
  }
 },
 "nbformat": 4,
 "nbformat_minor": 2
}
